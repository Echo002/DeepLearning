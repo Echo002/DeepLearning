{
 "cells": [
  {
   "cell_type": "code",
   "execution_count": 9,
   "metadata": {},
   "outputs": [
    {
     "name": "stdout",
     "output_type": "stream",
     "text": [
      "Extracting E:\\DataSet\\MNIST\\train-images-idx3-ubyte.gz\n",
      "Extracting E:\\DataSet\\MNIST\\train-labels-idx1-ubyte.gz\n",
      "Extracting E:\\DataSet\\MNIST\\t10k-images-idx3-ubyte.gz\n",
      "Extracting E:\\DataSet\\MNIST\\t10k-labels-idx1-ubyte.gz\n"
     ]
    }
   ],
   "source": [
    "import tensorflow as tf\n",
    "from tensorflow.examples.tutorials.mnist import input_data\n",
    "mnist = input_data.read_data_sets('E:\\DataSet\\MNIST', one_hot=True)"
   ]
  },
  {
   "cell_type": "code",
   "execution_count": 10,
   "metadata": {},
   "outputs": [],
   "source": [
    "x = tf.placeholder(tf.float32, [None, 784])\n",
    "W = tf.Variable(tf.zeros([784, 10]))\n",
    "b = tf.Variable(tf.zeros([10]))\n",
    "\n",
    "# y是模型的输出，y_是实际的图像标签\n",
    "y = tf.nn.softmax(tf.matmul(x, W) + b)\n",
    "y_ = tf.placeholder(tf.float32, [None, 10])\n",
    "\n",
    "\n",
    "# 构造损失函数\n",
    "cross_entropy = tf.reduce_mean(-tf.reduce_sum(y_ * tf.log(y)))\n",
    "# 采用梯度下降进行优化\n",
    "trian_step = tf.train.GradientDescentOptimizer(0.01).minimize(cross_entropy)"
   ]
  },
  {
   "cell_type": "code",
   "execution_count": 56,
   "metadata": {},
   "outputs": [
    {
     "name": "stdout",
     "output_type": "stream",
     "text": [
      "0.9214\n"
     ]
    }
   ],
   "source": [
    "# 优化过程\n",
    "with tf.Session() as sess:\n",
    "    tf.global_variables_initializer().run()\n",
    "    for _ in range(1000):\n",
    "        batch_xs, batch_ys = mnist.train.next_batch(100)\n",
    "        sess.run(trian_step, feed_dict={x:batch_xs, y_:batch_ys})\n",
    "    correct_prediciton = tf.equal(tf.argmax(y, 1), tf.argmax(y_, 1))\n",
    "    accuracy = tf.reduce_mean(tf.cast(correct_prediciton, tf.float32))\n",
    "    print(sess.run(accuracy, feed_dict={x:mnist.test.images, y_:mnist.test.labels}))"
   ]
  },
  {
   "cell_type": "code",
   "execution_count": 62,
   "metadata": {},
   "outputs": [
    {
     "name": "stdout",
     "output_type": "stream",
     "text": [
      "[0. 0. 0. 0. 0. 0. 1. 0. 0. 0.]\n",
      "[[0. 0. 0. 0. 0. 0. 1. 0. 0. 0.]]\n",
      "[7]\n",
      "[0. 0. 0. 0. 0. 0. 0. 1. 0. 0.]\n",
      "[False False  True False False False False False False]\n",
      "[0. 0. 0. 0. 0. 0. 0. 0. 0. 0.]\n",
      "[ True  True  True  True  True  True  True False  True]\n",
      "[-0.50073016  0.4149966   0.22481823 -0.31500557 -0.00714085  1.8405215\n",
      " -0.19263944  0.8263036  -1.9717621  -0.31935996]\n"
     ]
    }
   ],
   "source": [
    "# 一些细节\n",
    "with tf.Session() as sess:\n",
    "    tf.global_variables_initializer().run()\n",
    "    # 正确查看到了y_的值\n",
    "    print(mnist.train.labels[0])\n",
    "    print(sess.run(y_, feed_dict={y_:mnist.train.labels[0].reshape(1, 10)}))\n",
    "    \n",
    "    # 正确查看到了argmax的计算结果\n",
    "    calc = tf.argmax(y_, 1)\n",
    "    print(sess.run(calc, feed_dict={x:mnist.test.images[0].reshape(1, 784), y_:mnist.test.labels[0].reshape(1, 10)}))\n",
    "    print(mnist.test.labels[0])\n",
    "    \n",
    "    # 正确查看到了correct_prediction的值\n",
    "    print(sess.run(correct_prediciton, feed_dict={x:mnist.test.images[1:10, : ], y_:mnist.test.labels[1:10]}))\n",
    "    # 打印权重\n",
    "    print(sess.run(b))\n",
    "    \n",
    "    for _ in range(1000):\n",
    "        batch_xs, batch_ys = mnist.train.next_batch(100)\n",
    "        sess.run(trian_step, feed_dict={x:batch_xs, y_:batch_ys})\n",
    "    print(sess.run(correct_prediciton, feed_dict={x:mnist.test.images[1:10, : ], y_:mnist.test.labels[1:10]}))\n",
    "    # 打印权重\n",
    "    print(sess.run(b))\n",
    "    # 经过训练之后，果然变牛皮了"
   ]
  },
  {
   "cell_type": "code",
   "execution_count": 18,
   "metadata": {},
   "outputs": [
    {
     "name": "stdout",
     "output_type": "stream",
     "text": [
      "[0. 0. 0. 0. 1. 0. 0. 0. 0. 0.]\n"
     ]
    }
   ],
   "source": [
    "print(mnist.train.labels[0])"
   ]
  },
  {
   "cell_type": "code",
   "execution_count": null,
   "metadata": {},
   "outputs": [],
   "source": []
  }
 ],
 "metadata": {
  "kernelspec": {
   "display_name": "Python 3",
   "language": "python",
   "name": "python3"
  },
  "language_info": {
   "codemirror_mode": {
    "name": "ipython",
    "version": 3
   },
   "file_extension": ".py",
   "mimetype": "text/x-python",
   "name": "python",
   "nbconvert_exporter": "python",
   "pygments_lexer": "ipython3",
   "version": "3.6.6"
  }
 },
 "nbformat": 4,
 "nbformat_minor": 2
}
