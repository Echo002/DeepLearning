{
 "cells": [
  {
   "cell_type": "code",
   "execution_count": 15,
   "metadata": {},
   "outputs": [
    {
     "name": "stdout",
     "output_type": "stream",
     "text": [
      "0 [0.28728923, 0.6668626]\n",
      "20 [0.08102521, 0.20937805]\n",
      "40 [0.08968537, 0.20509745]\n",
      "60 [0.0943931, 0.2027709]\n",
      "80 [0.09695216, 0.20150623]\n",
      "100 [0.09834323, 0.20081878]\n",
      "120 [0.09909941, 0.20044507]\n",
      "140 [0.099510446, 0.20024194]\n",
      "160 [0.099733874, 0.20013152]\n",
      "180 [0.09985533, 0.2000715]\n",
      "200 [0.09992136, 0.20003887]\n",
      "220 [0.099957265, 0.20002112]\n",
      "240 [0.09997677, 0.20001148]\n",
      "260 [0.099987365, 0.20000625]\n",
      "280 [0.0999931, 0.20000342]\n",
      "300 [0.09999623, 0.20000187]\n",
      "320 [0.099997945, 0.20000102]\n",
      "340 [0.09999888, 0.20000055]\n",
      "360 [0.0999994, 0.2000003]\n",
      "380 [0.09999966, 0.20000017]\n",
      "400 [0.09999981, 0.2000001]\n"
     ]
    }
   ],
   "source": [
    "import os\n",
    "import numpy as np\n",
    "import tensorflow as tf\n",
    "os.environ['TF_CPP_MIN_LOG_LEVEL'] = '2'\n",
    "\n",
    "# 使用numpy生成100个随机点\n",
    "x_data = np.random.rand(100)\n",
    "y_data = x_data * 0.1 + 0.2\n",
    "# 真实值\n",
    "\n",
    "#构造线性模型\n",
    "b = tf.Variable(1.1)\n",
    "k = tf.Variable(0.5)\n",
    "y = k * x_data + b\n",
    "# 预测值\n",
    "\n",
    "# 二次代价函数\n",
    "loss = tf.reduce_mean(tf.square(y_data - y))\n",
    "# 定义一个梯度下降法来进行训练的优化器\n",
    "optimizer = tf.train.GradientDescentOptimizer(0.2)\n",
    "# 最小化代价函数\n",
    "train = optimizer.minimize(loss)\n",
    "\n",
    "# 初始化变量\n",
    "init = tf.global_variables_initializer()\n",
    "\n",
    "with tf.Session() as sess:\n",
    "    sess.run(init)\n",
    "    for step in range(401):\n",
    "        sess.run(train)\n",
    "        if step % 20 == 0:\n",
    "            print(step , sess.run([k , b]))"
   ]
  }
 ],
 "metadata": {
  "kernelspec": {
   "display_name": "Python 3",
   "language": "python",
   "name": "python3"
  },
  "language_info": {
   "codemirror_mode": {
    "name": "ipython",
    "version": 3
   },
   "file_extension": ".py",
   "mimetype": "text/x-python",
   "name": "python",
   "nbconvert_exporter": "python",
   "pygments_lexer": "ipython3",
   "version": "3.6.5"
  }
 },
 "nbformat": 4,
 "nbformat_minor": 2
}
