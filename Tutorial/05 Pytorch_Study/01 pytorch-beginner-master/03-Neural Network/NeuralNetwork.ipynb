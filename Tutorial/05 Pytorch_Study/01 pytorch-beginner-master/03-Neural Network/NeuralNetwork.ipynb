{
 "cells": [
  {
   "cell_type": "code",
   "execution_count": 1,
   "metadata": {
    "ExecuteTime": {
     "end_time": "2019-03-01T07:51:55.466290Z",
     "start_time": "2019-03-01T07:51:55.463269Z"
    }
   },
   "outputs": [],
   "source": [
    "import torch\n",
    "from torch import nn, optim"
   ]
  },
  {
   "cell_type": "code",
   "execution_count": 2,
   "metadata": {
    "ExecuteTime": {
     "end_time": "2019-03-01T07:56:59.033636Z",
     "start_time": "2019-03-01T07:56:59.026654Z"
    }
   },
   "outputs": [],
   "source": [
    "class simplenetwork(nn.Module):\n",
    "    def __init__(self, in_dim, n_hidden1, n_hidden2, out_dim):\n",
    "        super(simplenetwork, self).__init__()\n",
    "        self.layer1 = nn.Sequential(\n",
    "            nn.Linear(in_dim, n_hidden1), \n",
    "            nn.BatchNorm1d(n_hidden1)\n",
    "            nn.ReLU(True)\n",
    "        )\n",
    "        self.layer2 = (\n",
    "            nn.Linear(n_hidden1, n_hidden2),\n",
    "            nn.BatchNorm1d(n_hidden2)\n",
    "            nn.ReLU(True)\n",
    "        )\n",
    "        self.layer3 = (\n",
    "            nn.Linear(n_hidden2, out_dim)\n",
    "        )\n",
    "    \n",
    "    def forward(self, x):\n",
    "        x = self.layer1(x)\n",
    "        x = self.layer2(x)\n",
    "        x = self.layer3(x)\n",
    "        return x"
   ]
  },
  {
   "cell_type": "code",
   "execution_count": null,
   "metadata": {},
   "outputs": [],
   "source": []
  }
 ],
 "metadata": {
  "kernelspec": {
   "display_name": "Python 3",
   "language": "python",
   "name": "python3"
  },
  "language_info": {
   "codemirror_mode": {
    "name": "ipython",
    "version": 3
   },
   "file_extension": ".py",
   "mimetype": "text/x-python",
   "name": "python",
   "nbconvert_exporter": "python",
   "pygments_lexer": "ipython3",
   "version": "3.6.2"
  }
 },
 "nbformat": 4,
 "nbformat_minor": 2
}
