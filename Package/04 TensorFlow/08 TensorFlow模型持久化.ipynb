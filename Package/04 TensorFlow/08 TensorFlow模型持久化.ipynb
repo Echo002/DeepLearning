{
 "cells": [
  {
   "cell_type": "code",
   "execution_count": 1,
   "metadata": {},
   "outputs": [],
   "source": [
    "import tensorflow as tf"
   ]
  },
  {
   "cell_type": "code",
   "execution_count": null,
   "metadata": {},
   "outputs": [],
   "source": [
    "# tensorflow中使用tf.train.Saver来保存和还原一个神经网络模型\n",
    "v1 = tf.Variable(tf.constant(1.0 ,shape=[1]), name=\"v1\")\n",
    "v2 = tf.Variable(tf.constant(2.0 ,shape=[1]), name=\"v2\")\n",
    "\n",
    "result = v1 + v2"
   ]
  },
  {
   "cell_type": "code",
   "execution_count": null,
   "metadata": {},
   "outputs": [],
   "source": [
    "init_op = tf.global_variables_initializer()\n",
    "saver = tf.train.Saver()\n",
    "\n",
    "with tf.Session() as sess:\n",
    "    sess.run(init_op)\n",
    "    saver.save(sess, r\"C:\\Users\\Echo\\Desktop\\saverPoint\\model.skpt\")"
   ]
  },
  {
   "cell_type": "code",
   "execution_count": null,
   "metadata": {},
   "outputs": [],
   "source": [
    "# 加载运算图\n",
    "path = tf.train.import_meta_graph(r\"C:\\Users\\Echo\\Desktop\\saverPoint\\model.skpt.meta\")\n",
    "with tf.Session() as sess:\n",
    "    path.restore(sess, r\"C:\\Users\\Echo\\Desktop\\saverPoint\\model.skpt\")\n",
    "    print(sess.run(tf.get_default_graph().get_tensor_by_name(\"add:0\")))"
   ]
  },
  {
   "cell_type": "code",
   "execution_count": 2,
   "metadata": {},
   "outputs": [
    {
     "name": "stdout",
     "output_type": "stream",
     "text": [
      "<tf.Variable 'v:0' shape=() dtype=float32_ref>\n",
      "<tf.Variable 'v/ExponentialMovingAverage:0' shape=() dtype=float32_ref>\n",
      "[10.0, 0.099999905]\n"
     ]
    }
   ],
   "source": [
    "# 滑动模型修改\n",
    "v = tf.Variable(0, dtype=tf.float32, name=\"v\")\n",
    "ema = tf.train.ExponentialMovingAverage(0.99)\n",
    "maintain_average_op = ema.apply(tf.global_variables())\n",
    "for variables in tf.global_variables():\n",
    "    print(variables)\n",
    "\n",
    "saver = tf.train.Saver()\n",
    "with tf.Session() as sess:\n",
    "    init_op = tf.global_variables_initializer()\n",
    "    sess.run(init_op)\n",
    "    \n",
    "    sess.run(tf.assign(v, 10))\n",
    "    sess.run(maintain_average_op)\n",
    "    saver.save(sess, r\"C:\\Users\\Echo\\Desktop\\saverPoint\\model.skpt\")\n",
    "    print(sess.run([v, ema.average(v)]))"
   ]
  },
  {
   "cell_type": "code",
   "execution_count": null,
   "metadata": {},
   "outputs": [],
   "source": []
  }
 ],
 "metadata": {
  "kernelspec": {
   "display_name": "Python 3",
   "language": "python",
   "name": "python3"
  },
  "language_info": {
   "codemirror_mode": {
    "name": "ipython",
    "version": 3
   },
   "file_extension": ".py",
   "mimetype": "text/x-python",
   "name": "python",
   "nbconvert_exporter": "python",
   "pygments_lexer": "ipython3",
   "version": "3.6.6"
  }
 },
 "nbformat": 4,
 "nbformat_minor": 2
}
