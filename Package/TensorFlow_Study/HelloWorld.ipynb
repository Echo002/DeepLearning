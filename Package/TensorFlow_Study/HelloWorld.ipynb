{
 "cells": [
  {
   "cell_type": "code",
   "execution_count": 20,
   "metadata": {},
   "outputs": [],
   "source": [
    "import tensorflow as tf\n",
    "\n",
    "a = tf.constant([[1.0, 2.0]])\n",
    "b = tf.constant([[3.0], \n",
    "                 [4.0]])\n",
    "\n",
    "result_add = a + b\n",
    "result_mat = a * b\n",
    "result_mat_test = tf.matmul(a,b)\n",
    "# matmul智能是矩阵的乘法，向量是不行的，要做乘法的话，就要利用[]把向量升级为矩阵\n",
    "# 只搭建 不运算."
   ]
  },
  {
   "cell_type": "code",
   "execution_count": 21,
   "metadata": {},
   "outputs": [
    {
     "name": "stdout",
     "output_type": "stream",
     "text": [
      "[[4. 5.]\n",
      " [5. 6.]]\n",
      "[[3. 6.]\n",
      " [4. 8.]]\n",
      "[[11.]]\n"
     ]
    }
   ],
   "source": [
    "#如果想得到运算结果，则需要创建会话（Session）\n",
    "with tf.Session() as sess:\n",
    "    print(sess.run(result_add))\n",
    "    print(sess.run(result_mat))\n",
    "    print(sess.run(result_mat_test))"
   ]
  }
 ],
 "metadata": {
  "kernelspec": {
   "display_name": "Python 3",
   "language": "python",
   "name": "python3"
  },
  "language_info": {
   "codemirror_mode": {
    "name": "ipython",
    "version": 3
   },
   "file_extension": ".py",
   "mimetype": "text/x-python",
   "name": "python",
   "nbconvert_exporter": "python",
   "pygments_lexer": "ipython3",
   "version": "3.6.6"
  }
 },
 "nbformat": 4,
 "nbformat_minor": 2
}
