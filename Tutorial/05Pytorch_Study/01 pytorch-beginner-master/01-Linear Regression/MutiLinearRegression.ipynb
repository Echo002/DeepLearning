{
 "cells": [
  {
   "cell_type": "code",
   "execution_count": 1,
   "metadata": {
    "ExecuteTime": {
     "end_time": "2019-02-27T11:59:42.382145Z",
     "start_time": "2019-02-27T11:59:41.780181Z"
    }
   },
   "outputs": [],
   "source": [
    "import torch\n",
    "import numpy as np\n",
    "from torch import nn, optim\n",
    "from torch.autograd import Variable\n",
    "from matplotlib import pyplot as plt "
   ]
  },
  {
   "cell_type": "code",
   "execution_count": 2,
   "metadata": {
    "ExecuteTime": {
     "end_time": "2019-02-27T11:59:43.163018Z",
     "start_time": "2019-02-27T11:59:43.146068Z"
    }
   },
   "outputs": [
    {
     "name": "stdout",
     "output_type": "stream",
     "text": [
      "tensor([0.5000, 3.0000, 2.4000])\n",
      "tensor([[0.5000],\n",
      "        [3.0000],\n",
      "        [2.4000]])\n"
     ]
    }
   ],
   "source": [
    "def make_features(x):\n",
    "    x = x.unsqueeze(1)\n",
    "    return torch.cat([x ** i for i in range(1,4)], 1)\n",
    "\n",
    "print(torch.FloatTensor([0.5, 3, 2.4]))\n",
    "W_target = torch.FloatTensor([0.5, 3, 2.4]).unsqueeze(1)\n",
    "b_target = torch.FloatTensor([0.9])\n",
    "print(W_target)\n",
    "\n",
    "def f(x):\n",
    "    return x.mm(W_target) + b_target[0]"
   ]
  },
  {
   "cell_type": "code",
   "execution_count": 3,
   "metadata": {
    "ExecuteTime": {
     "end_time": "2019-02-27T11:59:44.480111Z",
     "start_time": "2019-02-27T11:59:44.475138Z"
    }
   },
   "outputs": [],
   "source": [
    "# 随机生成训练集\n",
    "def get_batch(batch_size = 32):\n",
    "    random = torch.randn(batch_size)\n",
    "    x = make_features(random)\n",
    "    y = f(x)\n",
    "    # print(x.size(), y.size())\n",
    "    return Variable(x).cuda(), Variable(y).cuda()\n",
    "# get_batch(32)"
   ]
  },
  {
   "cell_type": "code",
   "execution_count": 4,
   "metadata": {
    "ExecuteTime": {
     "end_time": "2019-02-27T11:59:48.591484Z",
     "start_time": "2019-02-27T11:59:46.337345Z"
    }
   },
   "outputs": [],
   "source": [
    "class poly_model(nn.Module):\n",
    "    def __init__(self):\n",
    "        super().__init__()\n",
    "        self.poly = nn.Linear(3, 1)\n",
    "        \n",
    "    def forward(self, x):\n",
    "        out = self.poly(x)\n",
    "        return out\n",
    "\n",
    "model = poly_model().cuda()\n",
    "\n",
    "# 定义损失函数和优化器\n",
    "criterion = nn.MSELoss()\n",
    "optimizer = optim.SGD(model.parameters(), lr = 1e-3)"
   ]
  },
  {
   "cell_type": "code",
   "execution_count": 30,
   "metadata": {
    "ExecuteTime": {
     "end_time": "2019-02-27T12:38:51.861520Z",
     "start_time": "2019-02-27T12:38:51.850520Z"
    }
   },
   "outputs": [],
   "source": [
    "epoch = 0\n",
    "while True:\n",
    "    # 获取数据\n",
    "    batch_x, batch_y = get_batch()\n",
    "    # 前向传播\n",
    "    output = model(batch_x)\n",
    "    loss = criterion(output, batch_y)\n",
    "    print_loss = loss.item()\n",
    "    # 不要忘记归零梯度\n",
    "    optimizer.zero_grad()\n",
    "    # 反向传播\n",
    "    loss.backward()\n",
    "    # 更新参数\n",
    "    optimizer.step()\n",
    "    epoch += 1\n",
    "    if print_loss < 1e-3:\n",
    "        break"
   ]
  },
  {
   "cell_type": "code",
   "execution_count": 54,
   "metadata": {
    "ExecuteTime": {
     "end_time": "2019-02-27T13:19:04.311982Z",
     "start_time": "2019-02-27T13:19:04.178314Z"
    }
   },
   "outputs": [
    {
     "data": {
      "image/png": "[encoded data removed]",
      "text/plain": [
       "<Figure size 432x288 with 1 Axes>"
      ]
     },
     "metadata": {
      "needs_background": "light"
     },
     "output_type": "display_data"
    }
   ],
   "source": [
    "model.eval()\n",
    "x = np.arange(-1, 1.5, 0.1)\n",
    "plt.plot(batch_x.t()[0].cpu().numpy(), batch_y.cpu().numpy(), 'ro', label='Original data')\n",
    "# 显示图例\n",
    "plt.show()"
   ]
  }
 ],
 "metadata": {
  "kernelspec": {
   "display_name": "Python 3",
   "language": "python",
   "name": "python3"
  },
  "language_info": {
   "codemirror_mode": {
    "name": "ipython",
    "version": 3
   },
   "file_extension": ".py",
   "mimetype": "text/x-python",
   "name": "python",
   "nbconvert_exporter": "python",
   "pygments_lexer": "ipython3",
   "version": "3.6.2"
  }
 },
 "nbformat": 4,
 "nbformat_minor": 2
}
