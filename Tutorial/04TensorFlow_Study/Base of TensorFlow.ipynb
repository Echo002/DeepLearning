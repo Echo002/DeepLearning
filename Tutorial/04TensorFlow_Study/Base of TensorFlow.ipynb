{
 "cells": [
  {
   "cell_type": "code",
   "execution_count": 1,
   "metadata": {
    "ExecuteTime": {
     "end_time": "2019-03-11T08:39:33.616905Z",
     "start_time": "2019-03-11T08:39:32.192710Z"
    }
   },
   "outputs": [],
   "source": [
    "import tensorflow as tf\n",
    "import numpy as np"
   ]
  },
  {
   "cell_type": "code",
   "execution_count": 2,
   "metadata": {
    "ExecuteTime": {
     "end_time": "2019-03-11T08:39:34.097724Z",
     "start_time": "2019-03-11T08:39:34.090716Z"
    }
   },
   "outputs": [],
   "source": [
    "x_data = np.float32(np.random.rand(2,100))\n",
    "y_data = np.dot([0.1,0.2] ,x_data) + 0.3"
   ]
  },
  {
   "cell_type": "code",
   "execution_count": 3,
   "metadata": {
    "ExecuteTime": {
     "end_time": "2019-03-11T08:41:20.460743Z",
     "start_time": "2019-03-11T08:41:20.240701Z"
    }
   },
   "outputs": [],
   "source": [
    "b = tf.Variable(tf.zeros([1]))\n",
    "W = tf.Variable(tf.random_uniform([1,2], -1.0, 1.0))\n",
    "y = tf.matmul(W, x_data) + b"
   ]
  },
  {
   "cell_type": "code",
   "execution_count": 4,
   "metadata": {
    "ExecuteTime": {
     "end_time": "2019-03-11T08:42:57.976178Z",
     "start_time": "2019-03-11T08:42:57.809948Z"
    }
   },
   "outputs": [],
   "source": [
    "loss = tf.reduce_mean(tf.square(y - y_data))\n",
    "optimizer = tf.train.GradientDescentOptimizer(0.5)\n",
    "train = optimizer.minimize(loss)"
   ]
  },
  {
   "cell_type": "code",
   "execution_count": 8,
   "metadata": {
    "ExecuteTime": {
     "end_time": "2019-03-11T08:44:18.840036Z",
     "start_time": "2019-03-11T08:44:18.809111Z"
    }
   },
   "outputs": [],
   "source": [
    "init = tf.global_variables_initializer()\n",
    "sess = tf.Session()\n",
    "sess.run(init)"
   ]
  },
  {
   "cell_type": "code",
   "execution_count": 11,
   "metadata": {
    "ExecuteTime": {
     "end_time": "2019-03-11T08:45:53.364540Z",
     "start_time": "2019-03-11T08:45:51.837001Z"
    }
   },
   "outputs": [
    {
     "name": "stdout",
     "output_type": "stream",
     "text": [
      "0 [[ 0.72815156 -0.23751006]] [0.49377096]\n",
      "20 [[0.1702404  0.14066517]] [0.30051962]\n",
      "40 [[0.10965813 0.19404389]] [0.2988748]\n",
      "60 [[0.10157748 0.19967145]] [0.2994662]\n",
      "80 [[0.10033063 0.2000898 ]] [0.29980192]\n",
      "100 [[0.10008726 0.20005414]] [0.2999312]\n",
      "120 [[0.10002647 0.20002107]] [0.2999766]\n",
      "140 [[0.10000857 0.20000744]] [0.29999208]\n",
      "160 [[0.10000285 0.20000255]] [0.29999733]\n",
      "180 [[0.10000094 0.20000087]] [0.2999991]\n",
      "200 [[0.10000032 0.20000029]] [0.2999997]\n"
     ]
    }
   ],
   "source": [
    "for step in range(0, 201):\n",
    "    sess.run(train)\n",
    "    if step % 20 == 0:\n",
    "        print(step, sess.run(W), sess.run(b))"
   ]
  },
  {
   "cell_type": "code",
   "execution_count": null,
   "metadata": {},
   "outputs": [],
   "source": []
  }
 ],
 "metadata": {
  "kernelspec": {
   "display_name": "Python 3",
   "language": "python",
   "name": "python3"
  },
  "language_info": {
   "codemirror_mode": {
    "name": "ipython",
    "version": 3
   },
   "file_extension": ".py",
   "mimetype": "text/x-python",
   "name": "python",
   "nbconvert_exporter": "python",
   "pygments_lexer": "ipython3",
   "version": "3.6.8"
  }
 },
 "nbformat": 4,
 "nbformat_minor": 2
}
