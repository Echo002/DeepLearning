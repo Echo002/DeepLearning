{
 "cells": [
  {
   "cell_type": "code",
   "execution_count": 1,
   "metadata": {
    "ExecuteTime": {
     "end_time": "2019-03-02T13:24:14.803299Z",
     "start_time": "2019-03-02T13:24:14.448573Z"
    }
   },
   "outputs": [],
   "source": [
    "import torch\n",
    "from torch import nn, optim\n",
    "from torch.autograd import Variable\n",
    "from torchvision.datasets import mnist\n",
    "import numpy as np\n",
    "from torch.utils.data import DataLoader\n",
    "# 使用 pytorch 自带的 DataLoader 定义一个数据迭代器"
   ]
  },
  {
   "cell_type": "code",
   "execution_count": 2,
   "metadata": {
    "ExecuteTime": {
     "end_time": "2019-03-02T13:24:15.610813Z",
     "start_time": "2019-03-02T13:24:15.562942Z"
    }
   },
   "outputs": [],
   "source": [
    "train_set = mnist.MNIST('./data', train=True, download=True)\n",
    "test_set = mnist.MNIST('./data', train=False, download=True)"
   ]
  },
  {
   "cell_type": "code",
   "execution_count": 3,
   "metadata": {
    "ExecuteTime": {
     "end_time": "2019-03-02T13:24:16.653572Z",
     "start_time": "2019-03-02T13:24:16.643090Z"
    }
   },
   "outputs": [],
   "source": [
    "class simplenetwork(nn.Module):\n",
    "    def __init__(self, in_dim, n_hidden1, n_hidden2, out_dim):\n",
    "        super(simplenetwork, self).__init__()\n",
    "        self.layer1 = nn.Sequential(\n",
    "            nn.Linear(in_dim, n_hidden1), \n",
    "            nn.BatchNorm1d(n_hidden1),\n",
    "            nn.ReLU(True)\n",
    "        )\n",
    "        self.layer2 = nn.Sequential(\n",
    "            nn.Linear(n_hidden1, n_hidden2),\n",
    "            nn.BatchNorm1d(n_hidden2),\n",
    "            nn.ReLU(True)\n",
    "        )\n",
    "        self.layer3 = nn.Sequential(\n",
    "            nn.Linear(n_hidden2, out_dim)\n",
    "        )\n",
    "    \n",
    "    def forward(self, x):\n",
    "        x = self.layer1(x)\n",
    "        x = self.layer2(x)\n",
    "        x = self.layer3(x)\n",
    "        return x"
   ]
  },
  {
   "cell_type": "code",
   "execution_count": 4,
   "metadata": {
    "ExecuteTime": {
     "end_time": "2019-03-02T13:24:17.570709Z",
     "start_time": "2019-03-02T13:24:17.555724Z"
    }
   },
   "outputs": [
    {
     "name": "stdout",
     "output_type": "stream",
     "text": [
      "<PIL.Image.Image image mode=L size=28x28 at 0x234EDB66AC8> tensor(5)\n"
     ]
    }
   ],
   "source": [
    "data, label = train_set[0]\n",
    "print(data, label)"
   ]
  },
  {
   "cell_type": "code",
   "execution_count": 5,
   "metadata": {
    "ExecuteTime": {
     "end_time": "2019-03-02T13:24:18.272886Z",
     "start_time": "2019-03-02T13:24:18.211542Z"
    }
   },
   "outputs": [
    {
     "name": "stdout",
     "output_type": "stream",
     "text": [
      "(28, 28)\n"
     ]
    }
   ],
   "source": [
    "data = np.array(data, dtype='float')\n",
    "print(data.shape)\n",
    "\n",
    "def data_tf(x):\n",
    "    x = np.array(x, dtype='float') / 255\n",
    "    # 标准化\n",
    "    x = (x - 0.5) / 0.5\n",
    "    x = x.reshape((-1, ))\n",
    "    x = torch.from_numpy(x)\n",
    "    return x\n",
    "# 这里我们可以重新载入数据集，并声明定义的数据变换\n",
    "train_set = mnist.MNIST('./data', train=True, transform=data_tf, download=True) \n",
    "test_set = mnist.MNIST('./data', train=False, transform=data_tf, download=True)"
   ]
  },
  {
   "cell_type": "code",
   "execution_count": 6,
   "metadata": {
    "ExecuteTime": {
     "end_time": "2019-03-02T13:24:18.776635Z",
     "start_time": "2019-03-02T13:24:18.770650Z"
    }
   },
   "outputs": [
    {
     "name": "stdout",
     "output_type": "stream",
     "text": [
      "<class 'torch.utils.data.dataloader.DataLoader'>\n"
     ]
    }
   ],
   "source": [
    "# 使用这样的数据迭代器是非常有必要的，如果数据量太大，就无法一次将他们全部读入内存，所以需要使用 python 迭代器，每次生成一个批次的数据\n",
    "train_data = DataLoader(train_set, batch_size=64, shuffle=True)\n",
    "test_data = DataLoader(test_set, batch_size=128, shuffle=False)\n",
    "print(type(train_data))"
   ]
  },
  {
   "cell_type": "code",
   "execution_count": 7,
   "metadata": {
    "ExecuteTime": {
     "end_time": "2019-03-02T13:24:19.277805Z",
     "start_time": "2019-03-02T13:24:19.258857Z"
    }
   },
   "outputs": [
    {
     "name": "stdout",
     "output_type": "stream",
     "text": [
      "torch.Size([64, 784])\n",
      "torch.Size([64])\n"
     ]
    }
   ],
   "source": [
    "a, a_label = next(iter(train_data))\n",
    "# 打印出一个批次的数据大小\n",
    "print(a.shape)\n",
    "print(a_label.shape)"
   ]
  },
  {
   "cell_type": "code",
   "execution_count": 8,
   "metadata": {
    "ExecuteTime": {
     "end_time": "2019-03-02T13:24:19.791434Z",
     "start_time": "2019-03-02T13:24:19.684717Z"
    }
   },
   "outputs": [],
   "source": [
    "model = simplenetwork(28 * 28, 300, 100, 10)\n",
    "# model = model.cuda()\n",
    "# 定义损失函数\n",
    "criterion = nn.CrossEntropyLoss()\n",
    "# 随机梯度下降。学习率为0.1\n",
    "optimizer = optim.SGD(model.parameters(), 1e-1)"
   ]
  },
  {
   "cell_type": "code",
   "execution_count": 9,
   "metadata": {
    "ExecuteTime": {
     "end_time": "2019-03-02T13:28:40.111495Z",
     "start_time": "2019-03-02T13:24:20.477168Z"
    }
   },
   "outputs": [
    {
     "name": "stdout",
     "output_type": "stream",
     "text": [
      "epoch: 0, Train Loss: 0.261108, Train Acc: 0.933436, Eval Loss: 0.104968, Eval Acc: 0.968750\n",
      "epoch: 1, Train Loss: 0.097779, Train Acc: 0.970732, Eval Loss: 0.082281, Eval Acc: 0.975376\n",
      "epoch: 2, Train Loss: 0.066752, Train Acc: 0.979511, Eval Loss: 0.089321, Eval Acc: 0.971816\n",
      "epoch: 3, Train Loss: 0.051378, Train Acc: 0.983959, Eval Loss: 0.075787, Eval Acc: 0.976760\n",
      "epoch: 4, Train Loss: 0.041249, Train Acc: 0.987024, Eval Loss: 0.058155, Eval Acc: 0.982595\n",
      "epoch: 5, Train Loss: 0.032154, Train Acc: 0.990022, Eval Loss: 0.058410, Eval Acc: 0.981210\n",
      "epoch: 6, Train Loss: 0.025900, Train Acc: 0.992138, Eval Loss: 0.070391, Eval Acc: 0.976760\n",
      "epoch: 7, Train Loss: 0.022331, Train Acc: 0.992837, Eval Loss: 0.071222, Eval Acc: 0.979430\n",
      "epoch: 8, Train Loss: 0.019196, Train Acc: 0.993653, Eval Loss: 0.071409, Eval Acc: 0.979233\n",
      "epoch: 9, Train Loss: 0.017342, Train Acc: 0.994819, Eval Loss: 0.061864, Eval Acc: 0.981705\n",
      "epoch: 10, Train Loss: 0.012281, Train Acc: 0.996768, Eval Loss: 0.058697, Eval Acc: 0.983287\n",
      "epoch: 11, Train Loss: 0.011876, Train Acc: 0.996452, Eval Loss: 0.061900, Eval Acc: 0.982496\n",
      "epoch: 12, Train Loss: 0.011581, Train Acc: 0.996552, Eval Loss: 0.065243, Eval Acc: 0.981903\n",
      "epoch: 13, Train Loss: 0.011651, Train Acc: 0.996302, Eval Loss: 0.063356, Eval Acc: 0.983287\n",
      "epoch: 14, Train Loss: 0.008102, Train Acc: 0.997818, Eval Loss: 0.061430, Eval Acc: 0.982991\n",
      "epoch: 15, Train Loss: 0.006702, Train Acc: 0.998268, Eval Loss: 0.067586, Eval Acc: 0.981804\n",
      "epoch: 16, Train Loss: 0.006629, Train Acc: 0.998151, Eval Loss: 0.062963, Eval Acc: 0.982991\n",
      "epoch: 17, Train Loss: 0.006323, Train Acc: 0.998384, Eval Loss: 0.059048, Eval Acc: 0.983089\n",
      "epoch: 18, Train Loss: 0.006473, Train Acc: 0.998184, Eval Loss: 0.068919, Eval Acc: 0.981606\n",
      "epoch: 19, Train Loss: 0.005727, Train Acc: 0.998318, Eval Loss: 0.058756, Eval Acc: 0.983287\n"
     ]
    }
   ],
   "source": [
    "# 开始训练\n",
    "losses = []\n",
    "acces = []\n",
    "eval_losses = []\n",
    "eval_acces = []\n",
    "\n",
    "for e in range(20):\n",
    "    train_loss = 0\n",
    "    train_acc = 0\n",
    "    model.train()\n",
    "    for im, label in train_data:\n",
    "        im = Variable(im, volatile=True)\n",
    "        label = Variable(label, volatile=True)\n",
    "        # 前向传播\n",
    "        im = im.float()\n",
    "        out = model(im)\n",
    "        loss = criterion(out, label)\n",
    "        # 反向传播\n",
    "        optimizer.zero_grad()\n",
    "        loss.backward()\n",
    "        optimizer.step()\n",
    "        # 记录误差\n",
    "        train_loss += loss.item()\n",
    "        # 计算分类的准确率\n",
    "        _, pred = out.max(1)\n",
    "        num_correct = (pred == label).sum().item()\n",
    "        acc = num_correct / im.shape[0]\n",
    "        train_acc += acc\n",
    "        \n",
    "    losses.append(train_loss / len(train_data))\n",
    "    acces.append(train_acc / len(train_data))\n",
    "    # 在测试集上检验效果\n",
    "    eval_loss = 0\n",
    "    eval_acc = 0\n",
    "    model.eval() # 将模型改为预测模式\n",
    "    for im, label in test_data:\n",
    "        im = Variable(im)\n",
    "        label = Variable(label)\n",
    "        im = im.float()\n",
    "        out = model(im)\n",
    "        loss = criterion(out, label)\n",
    "        # 记录误差\n",
    "        eval_loss += loss.item()\n",
    "        # 记录准确率\n",
    "        _, pred = out.max(1)\n",
    "        num_correct = (pred == label).sum().item()\n",
    "        acc = num_correct / im.shape[0]\n",
    "        eval_acc += acc\n",
    "        \n",
    "    eval_losses.append(eval_loss / len(test_data))\n",
    "    eval_acces.append(eval_acc / len(test_data))\n",
    "    print('epoch: {}, Train Loss: {:.6f}, Train Acc: {:.6f}, Eval Loss: {:.6f}, Eval Acc: {:.6f}'\n",
    "          .format(e, train_loss / len(train_data), train_acc / len(train_data), \n",
    "                     eval_loss / len(test_data), eval_acc / len(test_data)))"
   ]
  },
  {
   "cell_type": "code",
   "execution_count": 11,
   "metadata": {
    "ExecuteTime": {
     "end_time": "2019-03-02T13:35:25.983083Z",
     "start_time": "2019-03-02T13:35:25.684704Z"
    }
   },
   "outputs": [
    {
     "data": {
      "image/png": "[encoded data removed]",
      "text/plain": [
       "<Figure size 432x288 with 1 Axes>"
      ]
     },
     "metadata": {
      "needs_background": "light"
     },
     "output_type": "display_data"
    }
   ],
   "source": [
    "import matplotlib.pyplot as plt\n",
    "plt.title('train loss')\n",
    "plt.plot(np.arange(len(losses)), losses)\n",
    "plt.show()"
   ]
  },
  {
   "cell_type": "code",
   "execution_count": 12,
   "metadata": {
    "ExecuteTime": {
     "end_time": "2019-03-02T13:36:17.652495Z",
     "start_time": "2019-03-02T13:36:17.460622Z"
    }
   },
   "outputs": [
    {
     "data": {
      "image/png": "[encoded data removed]",
      "text/plain": [
       "<Figure size 432x288 with 1 Axes>"
      ]
     },
     "metadata": {
      "needs_background": "light"
     },
     "output_type": "display_data"
    }
   ],
   "source": [
    "plt.plot(np.arange(len(acces)), acces)\n",
    "plt.title('train acc')\n",
    "plt.show()"
   ]
  },
  {
   "cell_type": "code",
   "execution_count": 13,
   "metadata": {
    "ExecuteTime": {
     "end_time": "2019-03-02T13:36:55.632197Z",
     "start_time": "2019-03-02T13:36:55.411787Z"
    }
   },
   "outputs": [
    {
     "data": {
      "image/png": "[encoded data removed]",
      "text/plain": [
       "<Figure size 432x288 with 1 Axes>"
      ]
     },
     "metadata": {
      "needs_background": "light"
     },
     "output_type": "display_data"
    }
   ],
   "source": [
    "plt.plot(np.arange(len(eval_losses)), eval_losses)\n",
    "plt.title('test loss')\n",
    "plt.show()"
   ]
  },
  {
   "cell_type": "code",
   "execution_count": 14,
   "metadata": {
    "ExecuteTime": {
     "end_time": "2019-03-02T13:37:47.889005Z",
     "start_time": "2019-03-02T13:37:47.698125Z"
    }
   },
   "outputs": [
    {
     "data": {
      "image/png": "[encoded data removed]",
      "text/plain": [
       "<Figure size 432x288 with 1 Axes>"
      ]
     },
     "metadata": {
      "needs_background": "light"
     },
     "output_type": "display_data"
    }
   ],
   "source": [
    "plt.plot(np.arange(len(eval_acces)), eval_acces)\n",
    "plt.title('test acc')\n",
    "plt.show()"
   ]
  },
  {
   "cell_type": "code",
   "execution_count": null,
   "metadata": {},
   "outputs": [],
   "source": []
  }
 ],
 "metadata": {
  "kernelspec": {
   "display_name": "Python 3",
   "language": "python",
   "name": "python3"
  },
  "language_info": {
   "codemirror_mode": {
    "name": "ipython",
    "version": 3
   },
   "file_extension": ".py",
   "mimetype": "text/x-python",
   "name": "python",
   "nbconvert_exporter": "python",
   "pygments_lexer": "ipython3",
   "version": "3.6.2"
  }
 },
 "nbformat": 4,
 "nbformat_minor": 2
}
