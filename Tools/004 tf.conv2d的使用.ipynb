{
 "cells": [
  {
   "cell_type": "code",
   "execution_count": 1,
   "metadata": {
    "ExecuteTime": {
     "end_time": "2019-03-13T02:24:34.486428Z",
     "start_time": "2019-03-13T02:24:26.838696Z"
    }
   },
   "outputs": [],
   "source": [
    "import tensorflow as tf"
   ]
  },
  {
   "cell_type": "code",
   "execution_count": 22,
   "metadata": {
    "ExecuteTime": {
     "end_time": "2019-03-13T03:28:15.207516Z",
     "start_time": "2019-03-13T03:28:15.191546Z"
    }
   },
   "outputs": [],
   "source": [
    "input = tf.Variable(tf.random_normal([10,5,5,5]))\n",
    "output = tf.Variable(tf.random_normal([3,3,5,7]))\n",
    "\n",
    "op = tf.nn.conv2d(input, output, strides=[1,2,2,1], padding=\"SAME\")"
   ]
  },
  {
   "cell_type": "code",
   "execution_count": 23,
   "metadata": {
    "ExecuteTime": {
     "end_time": "2019-03-13T03:28:18.768985Z",
     "start_time": "2019-03-13T03:28:18.712136Z"
    }
   },
   "outputs": [
    {
     "name": "stdout",
     "output_type": "stream",
     "text": [
      "(10, 5, 5, 5)\n",
      "(3, 3, 5, 7)\n",
      "(10, 3, 3, 7)\n"
     ]
    }
   ],
   "source": [
    "with tf.Session() as sess:\n",
    "    init_op = tf.global_variables_initializer()\n",
    "    print(input.shape)\n",
    "    print(output.shape)\n",
    "    sess.run(init_op)\n",
    "    result = sess.run(op)\n",
    "    print(result.shape)"
   ]
  },
  {
   "cell_type": "code",
   "execution_count": null,
   "metadata": {},
   "outputs": [],
   "source": []
  }
 ],
 "metadata": {
  "kernelspec": {
   "display_name": "Python 3",
   "language": "python",
   "name": "python3"
  },
  "language_info": {
   "codemirror_mode": {
    "name": "ipython",
    "version": 3
   },
   "file_extension": ".py",
   "mimetype": "text/x-python",
   "name": "python",
   "nbconvert_exporter": "python",
   "pygments_lexer": "ipython3",
   "version": "3.6.8"
  }
 },
 "nbformat": 4,
 "nbformat_minor": 2
}
