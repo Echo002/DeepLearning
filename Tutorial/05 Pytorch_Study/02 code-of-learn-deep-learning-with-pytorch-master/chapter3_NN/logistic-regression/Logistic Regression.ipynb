{
 "cells": [
  {
   "cell_type": "code",
   "execution_count": 12,
   "metadata": {
    "ExecuteTime": {
     "end_time": "2019-02-28T08:12:29.850681Z",
     "start_time": "2019-02-28T08:12:29.846669Z"
    }
   },
   "outputs": [],
   "source": [
    "import torch\n",
    "from torch.autograd import Variable\n",
    "from torch import nn, optim\n",
    "import numpy as np\n",
    "import matplotlib.pyplot as plt"
   ]
  },
  {
   "cell_type": "code",
   "execution_count": 20,
   "metadata": {
    "ExecuteTime": {
     "end_time": "2019-02-28T08:22:41.102394Z",
     "start_time": "2019-02-28T08:22:41.093419Z"
    }
   },
   "outputs": [
    {
     "data": {
      "text/plain": [
       "(34.62365962451697, 78.0246928153624, 0.0)"
      ]
     },
     "execution_count": 20,
     "metadata": {},
     "output_type": "execute_result"
    }
   ],
   "source": [
    "with open('data.txt','r') as f:\n",
    "    data_list = f.readlines()\n",
    "    data_list = [i.split('\\n')[0] for i in data_list]\n",
    "    data_list = [i.split(',') for i in data_list]\n",
    "    data = [(float(i[0]), float(i[1]), float(i[2])) for i in data_list]\n",
    "data[0]"
   ]
  },
  {
   "cell_type": "code",
   "execution_count": 29,
   "metadata": {
    "ExecuteTime": {
     "end_time": "2019-02-28T08:51:36.847423Z",
     "start_time": "2019-02-28T08:51:36.669870Z"
    }
   },
   "outputs": [
    {
     "data": {
      "image/png": "[encoded data removed]",
      "text/plain": [
       "<Figure size 432x288 with 1 Axes>"
      ]
     },
     "metadata": {
      "needs_background": "light"
     },
     "output_type": "display_data"
    }
   ],
   "source": [
    "x0 = list(filter(lambda x: x[-1] == 0.0, data))\n",
    "x1 = list(filter(lambda x: x[-1] == 1.0, data))\n",
    "plot_x0_0 = [i[0] for i in x0]\n",
    "plot_x0_1 = [i[1] for i in x0]\n",
    "plot_x1_0 = [i[0] for i in x1]\n",
    "plot_x1_1 = [i[1] for i in x1]\n",
    "\n",
    "plt.plot(plot_x0_0, plot_x0_1, 'ro', label = \"x_0\")\n",
    "plt.plot(plot_x1_0, plot_x1_1, 'bo', label = \"x_1\")\n",
    "# 设置图例的显示位置\n",
    "plt.legend(loc = 'best')\n",
    "\n",
    "# 训练完成后画的直线图\n",
    "w0, w1 = logistic_model.lr.weight[0]\n",
    "w0 = w0.item()\n",
    "w1 = w1.item()\n",
    "b = logistic_model.lr.bias.item()\n",
    "plot_x = np.arange(30, 100 ,0.1)\n",
    "plot_y = (-w0 * plot_x - b) / w1\n",
    "plt.plot(plot_x, plot_y)\n",
    "\n",
    "plt.show()"
   ]
  },
  {
   "cell_type": "code",
   "execution_count": 21,
   "metadata": {
    "ExecuteTime": {
     "end_time": "2019-02-28T08:25:03.905376Z",
     "start_time": "2019-02-28T08:25:03.900389Z"
    }
   },
   "outputs": [],
   "source": [
    "np_data = np.array(data, dtype='float32') # 转换成 numpy array\n",
    "x_data = torch.from_numpy(np_data[:, 0:2]) # 转换成 Tensor, 大小是 [100, 2]\n",
    "y_data = torch.from_numpy(np_data[:, -1]).unsqueeze(1) # 转换成 Tensor，大小是 [100, 1]"
   ]
  },
  {
   "cell_type": "code",
   "execution_count": 22,
   "metadata": {
    "ExecuteTime": {
     "end_time": "2019-02-28T08:25:05.838207Z",
     "start_time": "2019-02-28T08:25:05.829244Z"
    }
   },
   "outputs": [],
   "source": [
    "# 定义模型\n",
    "class LogistRegression(nn.Module):\n",
    "    def __init__(self):\n",
    "        super(LogistRegression, self).__init__()\n",
    "        self.lr = nn.Linear(2, 1)\n",
    "        self.sm = nn.Sigmoid()\n",
    "    \n",
    "    def forward(self, x):\n",
    "        x = self.lr(x)\n",
    "        x = self.sm(x)\n",
    "        return x\n",
    "\n",
    "logistic_model = LogistRegression()\n",
    "logistic_model.cuda()\n",
    "\n",
    "criterion = nn.BCELoss()\n",
    "optimizer = torch.optim.SGD(logistic_model.parameters(), lr=1e-3, momentum=0.9)"
   ]
  },
  {
   "cell_type": "code",
   "execution_count": 30,
   "metadata": {
    "ExecuteTime": {
     "end_time": "2019-02-28T08:53:31.019142Z",
     "start_time": "2019-02-28T08:51:56.398124Z"
    }
   },
   "outputs": [
    {
     "name": "stdout",
     "output_type": "stream",
     "text": [
      "**********\n",
      "epoch 10000\n",
      "loss is 0.2429\n",
      "acc is 0.9000\n",
      "**********\n",
      "epoch 20000\n",
      "loss is 0.2365\n",
      "acc is 0.8900\n",
      "**********\n",
      "epoch 30000\n",
      "loss is 0.2316\n",
      "acc is 0.8900\n",
      "**********\n",
      "epoch 40000\n",
      "loss is 0.2276\n",
      "acc is 0.8900\n",
      "**********\n",
      "epoch 50000\n",
      "loss is 0.2245\n",
      "acc is 0.8900\n"
     ]
    }
   ],
   "source": [
    "# 训练模型\n",
    "for epoch in range(50000):\n",
    "    x = Variable(x_data).cuda()\n",
    "    y = Variable(y_data).cuda()\n",
    "    # 前向传播\n",
    "    out = logistic_model(x)\n",
    "    loss = criterion(out, y)\n",
    "    print_loss = loss.item()\n",
    "    # 判断大于0.5就等于1 小于0.5就等于0\n",
    "    mask = out.ge(0.5).float()\n",
    "    correct = (mask == y).sum()\n",
    "    acc = correct.item() / x.size(0)\n",
    "    # 反向传播\n",
    "    optimizer.zero_grad()\n",
    "    loss.backward()\n",
    "    optimizer.step()\n",
    "    if(epoch+1) % 10000 == 0:\n",
    "        print('*'*10)\n",
    "        print('epoch {}'.format(epoch+1))\n",
    "        print('loss is {:.4f}'.format(print_loss))\n",
    "        print('acc is {:.4f}'.format(acc))"
   ]
  },
  {
   "cell_type": "code",
   "execution_count": null,
   "metadata": {},
   "outputs": [],
   "source": []
  }
 ],
 "metadata": {
  "kernelspec": {
   "display_name": "Python 3",
   "language": "python",
   "name": "python3"
  },
  "language_info": {
   "codemirror_mode": {
    "name": "ipython",
    "version": 3
   },
   "file_extension": ".py",
   "mimetype": "text/x-python",
   "name": "python",
   "nbconvert_exporter": "python",
   "pygments_lexer": "ipython3",
   "version": "3.6.2"
  }
 },
 "nbformat": 4,
 "nbformat_minor": 2
}
