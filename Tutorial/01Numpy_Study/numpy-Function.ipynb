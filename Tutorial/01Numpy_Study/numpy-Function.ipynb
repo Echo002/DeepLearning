{
 "cells": [
  {
   "cell_type": "code",
   "execution_count": 5,
   "metadata": {},
   "outputs": [
    {
     "name": "stdout",
     "output_type": "stream",
     "text": [
      "1\n",
      "2\n",
      "3\n",
      "4\n",
      "5\n",
      "[1 2 3 4 5]\n"
     ]
    }
   ],
   "source": [
    "# np.unique(arr)\n",
    "# 该函数是去除数组arr中的重复数字，并进行排序之后输出。\n",
    "import numpy as np\n",
    "arr = np.array([1,2,3,4,5,1,3,5])\n",
    "for i in np.unique(arr):\n",
    "    print(i)\n",
    "print(np.unique(arr))"
   ]
  },
  {
   "cell_type": "code",
   "execution_count": 7,
   "metadata": {},
   "outputs": [
    {
     "name": "stdout",
     "output_type": "stream",
     "text": [
      "[ 0.22018542 -0.63293371 -2.01900053 -0.5990022   2.92162206]\n",
      "[ 1.18354533  2.05011748 -1.53362536 -0.66313988  0.88346702]\n",
      "[ 0.22018542  2.05011748 -2.01900053 -0.66313988  2.92162206]\n"
     ]
    }
   ],
   "source": [
    "# np.where(condition,x,y)\n",
    "# 满足条件数组变为x（对应的值），否则为y（对应的值）\n",
    "z = [True,False,True,False,True]\n",
    "x = np.random.randn(5)\n",
    "print(x)\n",
    "y = np.random.randn(5)\n",
    "print(y)\n",
    "re = np.where(z,x,y)\n",
    "print(re)"
   ]
  }
 ],
 "metadata": {
  "kernelspec": {
   "display_name": "Python 3",
   "language": "python",
   "name": "python3"
  },
  "language_info": {
   "codemirror_mode": {
    "name": "ipython",
    "version": 3
   },
   "file_extension": ".py",
   "mimetype": "text/x-python",
   "name": "python",
   "nbconvert_exporter": "python",
   "pygments_lexer": "ipython3",
   "version": "3.6.5"
  }
 },
 "nbformat": 4,
 "nbformat_minor": 2
}
