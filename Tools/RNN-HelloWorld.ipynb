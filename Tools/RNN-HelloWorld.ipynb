{
 "cells": [
  {
   "cell_type": "code",
   "execution_count": 6,
   "metadata": {
    "ExecuteTime": {
     "end_time": "2019-05-16T07:32:37.960686Z",
     "start_time": "2019-05-16T07:32:32.657665Z"
    }
   },
   "outputs": [],
   "source": [
    "import numpy as np\n",
    "import tensorflow as tf"
   ]
  },
  {
   "cell_type": "code",
   "execution_count": 3,
   "metadata": {
    "ExecuteTime": {
     "end_time": "2019-05-16T02:34:23.800443Z",
     "start_time": "2019-05-16T02:34:23.779515Z"
    }
   },
   "outputs": [],
   "source": [
    "X = [1, 2]\n",
    "state = [0.0, 0.0]\n",
    "\n",
    "# 分开定义不同输入部分的权重以方便操作\n",
    "w_cell_state = np.asarray([[0.1, 0.2], [0.3, 0.4]])\n",
    "w_cell_input = np.asarray([0.5, 0.6])\n",
    "b_cell = np.asarray([0.1, -0.1])\n",
    "\n",
    "# 定义用于输出的全连接层数\n",
    "w_output = np.asarray([[1.0], [2.0]])\n",
    "b_output = 0.1"
   ]
  },
  {
   "cell_type": "code",
   "execution_count": 5,
   "metadata": {
    "ExecuteTime": {
     "end_time": "2019-05-16T02:41:13.106018Z",
     "start_time": "2019-05-16T02:41:12.497378Z"
    }
   },
   "outputs": [
    {
     "name": "stdout",
     "output_type": "stream",
     "text": [
      "before_activation:  [ 0.6  0.5]\n",
      "state:  [ 0.53704957  0.46211716]\n",
      "output:  [ 1.56128388]\n",
      "before_activation:  [ 1.2923401   1.39225678]\n",
      "state:  [ 0.85973818  0.88366641]\n",
      "output:  [ 2.72707101]\n"
     ]
    }
   ],
   "source": [
    "# 按照时间顺序执行循环神经网络的前向传播过程\n",
    "for i in range(len(X)):\n",
    "    before_activation = np.dot(state, w_cell_state) + X[i] * w_cell_input + b_cell\n",
    "    state = np.tanh(before_activation)\n",
    "    \n",
    "    # 根据当前时刻状态计算最终输出\n",
    "    final_output = np.dot(state, w_output) + b_output\n",
    "    \n",
    "    # 输出每个时刻的信息\n",
    "    print(\"before_activation: \", before_activation)\n",
    "    print(\"state: \", state)\n",
    "    print(\"output: \", final_output)"
   ]
  },
  {
   "cell_type": "code",
   "execution_count": 7,
   "metadata": {
    "ExecuteTime": {
     "end_time": "2019-05-16T07:32:48.644655Z",
     "start_time": "2019-05-16T07:32:48.633692Z"
    }
   },
   "outputs": [
    {
     "data": {
      "text/plain": [
       "'1.3.0'"
      ]
     },
     "execution_count": 7,
     "metadata": {},
     "output_type": "execute_result"
    }
   ],
   "source": [
    "# LSTM\n",
    "lstm = tf.nn.rnn_cell.BasicLSTMCell(lstm_hidden_size)\n",
    "state = lstm.zero_state(batch_size, tf.float32)\n",
    "\n",
    "# 定义损失函数\n",
    "loss = 0.0\n",
    "for i in range(num_steps):\n",
    "    if i > 0 :\n",
    "        tf.get_variable_scope().reuse_variables()\n",
    "    lstm_output, state = lstm(current_input, state)\n",
    "    final_output = fully_connected(lstm_output)\n",
    "    loss += calc_loss(final_output, expected_output)"
   ]
  },
  {
   "cell_type": "code",
   "execution_count": null,
   "metadata": {},
   "outputs": [],
   "source": []
  }
 ],
 "metadata": {
  "kernelspec": {
   "display_name": "Python 3",
   "language": "python",
   "name": "python3"
  },
  "language_info": {
   "codemirror_mode": {
    "name": "ipython",
    "version": 3
   },
   "file_extension": ".py",
   "mimetype": "text/x-python",
   "name": "python",
   "nbconvert_exporter": "python",
   "pygments_lexer": "ipython3",
   "version": "3.6.8"
  }
 },
 "nbformat": 4,
 "nbformat_minor": 2
}
