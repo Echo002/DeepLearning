{
 "cells": [
  {
   "cell_type": "code",
   "execution_count": 1,
   "metadata": {
    "ExecuteTime": {
     "end_time": "2019-02-27T02:45:22.732046Z",
     "start_time": "2019-02-27T02:45:21.492911Z"
    }
   },
   "outputs": [],
   "source": [
    "import torch\n",
    "from torch import nn, optim\n",
    "from torch.autograd import Variable\n",
    "import numpy as np\n",
    "import matplotlib.pyplot as plt"
   ]
  },
  {
   "cell_type": "code",
   "execution_count": 2,
   "metadata": {
    "ExecuteTime": {
     "end_time": "2019-02-27T02:45:47.524024Z",
     "start_time": "2019-02-27T02:45:47.516044Z"
    }
   },
   "outputs": [],
   "source": [
    "x_train = np.array([[3.3], [4.4], [5.5], [6.71], [6.93], [4.168],\n",
    "                    [9.779], [6.182], [7.59], [2.167], [7.042],\n",
    "                    [10.791], [5.313], [7.997], [3.1]], dtype=np.float32)\n",
    "\n",
    "y_train = np.array([[1.7], [2.76], [2.09], [3.19], [1.694], [1.573],\n",
    "                    [3.366], [2.596], [2.53], [1.221], [2.827],\n",
    "                    [3.465], [1.65], [2.904], [1.3]], dtype=np.float32)"
   ]
  },
  {
   "cell_type": "code",
   "execution_count": 4,
   "metadata": {
    "ExecuteTime": {
     "end_time": "2019-02-27T02:47:11.663128Z",
     "start_time": "2019-02-27T02:47:11.659143Z"
    }
   },
   "outputs": [],
   "source": [
    "x_train = torch.from_numpy(x_train)\n",
    "y_train = torch.from_numpy(y_train)"
   ]
  },
  {
   "cell_type": "code",
   "execution_count": 7,
   "metadata": {
    "ExecuteTime": {
     "end_time": "2019-02-27T02:47:35.935921Z",
     "start_time": "2019-02-27T02:47:35.803405Z"
    }
   },
   "outputs": [
    {
     "data": {
      "image/png": "[encoded data removed]",
      "text/plain": [
       "<Figure size 432x288 with 1 Axes>"
      ]
     },
     "metadata": {
      "needs_background": "light"
     },
     "output_type": "display_data"
    }
   ],
   "source": [
    "plt.plot(x_train.numpy(), y_train.numpy(), 'ro', label='Original data')\n",
    "# plt.plot(x_train.numpy(), predict, label='Fitting Line')\n",
    "# 显示图例\n",
    "plt.legend() \n",
    "plt.show()"
   ]
  },
  {
   "cell_type": "code",
   "execution_count": 14,
   "metadata": {
    "ExecuteTime": {
     "end_time": "2019-02-27T03:28:32.549091Z",
     "start_time": "2019-02-27T03:28:32.542105Z"
    }
   },
   "outputs": [],
   "source": [
    "class LinearRegression(nn.Module):\n",
    "    def __init__(self):\n",
    "        super().__init__()\n",
    "        # 下面是定义模型的输入和输出（1,1）\n",
    "        self.linear = nn.Linear(1, 1)\n",
    "    \n",
    "    def forward(self, x):\n",
    "        out = self.linear(x)\n",
    "        return out\n",
    "    \n",
    "model = LinearRegression()\n",
    "# 定义loss和优化函数\n",
    "criterion = nn.MSELoss()\n",
    "optimizer = optim.SGD(model.parameters(), lr=1e-4)   "
   ]
  },
  {
   "cell_type": "code",
   "execution_count": 15,
   "metadata": {
    "ExecuteTime": {
     "end_time": "2019-02-27T03:28:35.727987Z",
     "start_time": "2019-02-27T03:28:35.324051Z"
    }
   },
   "outputs": [
    {
     "name": "stdout",
     "output_type": "stream",
     "text": [
      "Epoch[20/1000], loss: 4.735969\n",
      "Epoch[40/1000], loss: 3.397341\n",
      "Epoch[60/1000], loss: 2.451273\n",
      "Epoch[80/1000], loss: 1.782643\n",
      "Epoch[100/1000], loss: 1.310092\n",
      "Epoch[120/1000], loss: 0.976118\n",
      "Epoch[140/1000], loss: 0.740083\n",
      "Epoch[160/1000], loss: 0.573266\n",
      "Epoch[180/1000], loss: 0.455369\n",
      "Epoch[200/1000], loss: 0.372044\n",
      "Epoch[220/1000], loss: 0.313155\n",
      "Epoch[240/1000], loss: 0.271534\n",
      "Epoch[260/1000], loss: 0.242118\n",
      "Epoch[280/1000], loss: 0.221327\n",
      "Epoch[300/1000], loss: 0.206633\n",
      "Epoch[320/1000], loss: 0.196247\n",
      "Epoch[340/1000], loss: 0.188907\n",
      "Epoch[360/1000], loss: 0.183718\n",
      "Epoch[380/1000], loss: 0.180050\n",
      "Epoch[400/1000], loss: 0.177458\n",
      "Epoch[420/1000], loss: 0.175624\n",
      "Epoch[440/1000], loss: 0.174328\n",
      "Epoch[460/1000], loss: 0.173411\n",
      "Epoch[480/1000], loss: 0.172762\n",
      "Epoch[500/1000], loss: 0.172303\n",
      "Epoch[520/1000], loss: 0.171978\n",
      "Epoch[540/1000], loss: 0.171748\n",
      "Epoch[560/1000], loss: 0.171584\n",
      "Epoch[580/1000], loss: 0.171468\n",
      "Epoch[600/1000], loss: 0.171385\n",
      "Epoch[620/1000], loss: 0.171326\n",
      "Epoch[640/1000], loss: 0.171283\n",
      "Epoch[660/1000], loss: 0.171252\n",
      "Epoch[680/1000], loss: 0.171230\n",
      "Epoch[700/1000], loss: 0.171213\n",
      "Epoch[720/1000], loss: 0.171201\n",
      "Epoch[740/1000], loss: 0.171192\n",
      "Epoch[760/1000], loss: 0.171184\n",
      "Epoch[780/1000], loss: 0.171178\n",
      "Epoch[800/1000], loss: 0.171174\n",
      "Epoch[820/1000], loss: 0.171170\n",
      "Epoch[840/1000], loss: 0.171166\n",
      "Epoch[860/1000], loss: 0.171163\n",
      "Epoch[880/1000], loss: 0.171160\n",
      "Epoch[900/1000], loss: 0.171157\n",
      "Epoch[920/1000], loss: 0.171154\n",
      "Epoch[940/1000], loss: 0.171152\n",
      "Epoch[960/1000], loss: 0.171149\n",
      "Epoch[980/1000], loss: 0.171147\n",
      "Epoch[1000/1000], loss: 0.171145\n"
     ]
    },
    {
     "data": {
      "image/png": "[encoded data removed]",
      "text/plain": [
       "<Figure size 432x288 with 1 Axes>"
      ]
     },
     "metadata": {
      "needs_background": "light"
     },
     "output_type": "display_data"
    }
   ],
   "source": [
    "# 开始训练\n",
    "num_epochs = 1000\n",
    "for epoch in range(num_epochs):\n",
    "    inputs = Variable(x_train)\n",
    "    target = Variable(y_train)\n",
    "\n",
    "    # forward\n",
    "    # 得到前向传播的结果\n",
    "    out = model(inputs)\n",
    "    # 得到损失函数\n",
    "    loss = criterion(out, target)\n",
    "    # backward\n",
    "    # 每次反向传播之前都要将梯度归零\n",
    "    optimizer.zero_grad()\n",
    "    loss.backward()\n",
    "    optimizer.step()\n",
    "\n",
    "    if (epoch+1) % 20 == 0:\n",
    "        print('Epoch[{}/{}], loss: {:.6f}'.format(epoch+1, num_epochs, loss.item()))\n",
    "\n",
    "model.eval()\n",
    "predict = model(Variable(x_train))\n",
    "predict = predict.data.numpy()\n",
    "plt.plot(x_train.numpy(), y_train.numpy(), 'ro', label='Original data')\n",
    "plt.plot(x_train.numpy(), predict, label='Fitting Line')\n",
    "# 显示图例\n",
    "plt.legend() \n",
    "plt.show()\n",
    "\n",
    "# 保存模型\n",
    "torch.save(model.state_dict(), './linear.pth')"
   ]
  },
  {
   "cell_type": "code",
   "execution_count": null,
   "metadata": {},
   "outputs": [],
   "source": []
  }
 ],
 "metadata": {
  "kernelspec": {
   "display_name": "Python 3",
   "language": "python",
   "name": "python3"
  },
  "language_info": {
   "codemirror_mode": {
    "name": "ipython",
    "version": 3
   },
   "file_extension": ".py",
   "mimetype": "text/x-python",
   "name": "python",
   "nbconvert_exporter": "python",
   "pygments_lexer": "ipython3",
   "version": "3.6.2"
  }
 },
 "nbformat": 4,
 "nbformat_minor": 2
}
