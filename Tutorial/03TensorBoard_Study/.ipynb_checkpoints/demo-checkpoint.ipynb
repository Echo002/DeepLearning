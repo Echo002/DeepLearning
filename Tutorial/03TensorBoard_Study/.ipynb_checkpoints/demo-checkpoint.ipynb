{
 "cells": [
  {
   "cell_type": "code",
   "execution_count": null,
   "metadata": {
    "ExecuteTime": {
     "end_time": "2019-03-09T14:02:38.066987Z",
     "start_time": "2019-03-09T14:02:36.012362Z"
    }
   },
   "outputs": [],
   "source": [
    "import tensorflow as tf\n",
    "\n",
    "input1 = tf.constant([1.0, 2.0, 3.0], name = \"input1\")\n",
    "input2 = tf.Variable(tf.random_uniform([3]), name = \"input2\")\n",
    "output = tf.add_n([input1, input2], name = \"add\")\n",
    "\n",
    "writer = tf.summary.FileWriter(\"./log1\", tf.get_default_graph())\n",
    "writer.close()"
   ]
  },
  {
   "cell_type": "code",
   "execution_count": 1,
   "metadata": {},
   "outputs": [],
   "source": [
    "import tensorflow as tf\n",
    "\n",
    "with tf.name_scope('parameter'):\n",
    "    input1 = tf.constant([1.0, 2.0, 3.0], name = \"input1\")\n",
    "    input2 = tf.Variable(tf.random_uniform([3]), name = \"input2\")\n",
    "\n",
    "with tf.name_scope('calc'):\n",
    "    output = tf.add_n([input1, input2], name = \"add\")\n",
    "\n",
    "writer = tf.summary.FileWriter(\"./log2\", tf.get_default_graph())\n",
    "writer.close()"
   ]
  },
  {
   "cell_type": "code",
   "execution_count": 2,
   "metadata": {},
   "outputs": [
    {
     "data": {
      "text/plain": [
       "array([ 1.99842036,  2.17887688,  3.55199099], dtype=float32)"
      ]
     },
     "execution_count": 2,
     "metadata": {},
     "output_type": "execute_result"
    }
   ],
   "source": [
    "with tf.Session() as sess:\n",
    "    init_op = tf.global_variables_initializer()\n",
    "    sess.run(init_op)\n",
    "    r = sess.run(output)\n",
    "r"
   ]
  },
  {
   "cell_type": "code",
   "execution_count": null,
   "metadata": {},
   "outputs": [],
   "source": []
  }
 ],
 "metadata": {
  "kernelspec": {
   "display_name": "Python 3",
   "language": "python",
   "name": "python3"
  },
  "language_info": {
   "codemirror_mode": {
    "name": "ipython",
    "version": 3
   },
   "file_extension": ".py",
   "mimetype": "text/x-python",
   "name": "python",
   "nbconvert_exporter": "python",
   "pygments_lexer": "ipython3",
   "version": "3.6.2"
  }
 },
 "nbformat": 4,
 "nbformat_minor": 2
}
